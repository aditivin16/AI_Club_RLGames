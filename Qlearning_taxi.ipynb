{
  "nbformat": 4,
  "nbformat_minor": 0,
  "metadata": {
    "colab": {
      "provenance": [],
      "authorship_tag": "ABX9TyOMnuU9WHF9OhUY78CUAvse",
      "include_colab_link": true
    },
    "kernelspec": {
      "name": "python3",
      "display_name": "Python 3"
    },
    "language_info": {
      "name": "python"
    }
  },
  "cells": [
    {
      "cell_type": "markdown",
      "metadata": {
        "id": "view-in-github",
        "colab_type": "text"
      },
      "source": [
        "<a href=\"https://colab.research.google.com/github/aditivin16/AI_Club_RLGames/blob/main/Qlearning_taxi.ipynb\" target=\"_parent\"><img src=\"https://colab.research.google.com/assets/colab-badge.svg\" alt=\"Open In Colab\"/></a>"
      ]
    },
    {
      "cell_type": "code",
      "source": [
        "import gym\n",
        "import numpy as np\n",
        "\n",
        "env=gym.make(\"Taxi-v3\",render_mode='ansi')\n",
        "nstates=env.observation_space.n\n",
        "nactions=env.action_space.n\n",
        "q_table=np.zeros((nstates,nactions))\n",
        "\n",
        "nepisodes=1000\n",
        "l_rate=0.1\n",
        "d_factor=0.99\n",
        "epsilon_start=1\n",
        "epsilon_end=0.1\n",
        "training_steps=1000\n",
        "epsilon_d=epsilon_start/training_steps-epsilon_end/training_steps\n",
        "\n",
        "#q-learning policy\n",
        "\n",
        "epsilon=epsilon_start\n",
        "for ep_counter in range(nepisodes):\n",
        "  state=env.reset()\n",
        "  completed=False\n",
        "\n",
        "  while not completed:\n",
        "    #using epsilon greedy strategy\n",
        "    if np.random.random()<epsilon: #if the random number generated is less than epsilon, choose a random action\n",
        "      action=env.action_space.sample()\n",
        "    else:\n",
        "      action=np.argmax(q_table[state]) #choosing greedy action with probability 1-epsilon\n",
        "\n",
        "    next_state,reward,completed,info=env.step(action)\n",
        "\n",
        "    #updating q-table\n",
        "    q_current=q_table[state,action]\n",
        "    next_q_max=np.max(q_table[next_state])\n",
        "    q_new=(1-l_rate)*q_current+l_rate*(reward+d_factor*next_q_max)\n",
        "    q_table[state,action]=q_new\n",
        "    state=next_state\n",
        "\n",
        "  #updating epsilon\n",
        "  epsilon=epsilon-epsilon_d\n",
        "\n",
        "#running the game after updating the q_table\n",
        "state=env.reset()\n",
        "completed=False\n",
        "tot_reward=0\n",
        "\n",
        "def test(qtable):\n",
        "  return np.argmax(qtable[state])\n",
        "\n",
        "total_reward=0\n",
        "while not completed:\n",
        "  action=test(q_table)\n",
        "  state,reward,completed,info=env.step(action)\n",
        "  total_reward+=reward\n",
        "  env.render()\n",
        "print(\"The reward is:\",total_reward)\n",
        "\n",
        "#closing the environment\n",
        "env.close()\n"
      ],
      "metadata": {
        "id": "AiiNie2Uxup3",
        "colab": {
          "base_uri": "https://localhost:8080/"
        },
        "outputId": "9669e3a3-a2d8-4440-b14a-888d10f06811"
      },
      "execution_count": null,
      "outputs": [
        {
          "output_type": "stream",
          "name": "stdout",
          "text": [
            "The reward is: -200\n"
          ]
        }
      ]
    }
  ]
}
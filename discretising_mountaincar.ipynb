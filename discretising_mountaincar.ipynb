{
  "nbformat": 4,
  "nbformat_minor": 0,
  "metadata": {
    "colab": {
      "provenance": [],
      "authorship_tag": "ABX9TyMjK+xGCzU8UaKUhuMDqWhB",
      "include_colab_link": true
    },
    "kernelspec": {
      "name": "python3",
      "display_name": "Python 3"
    },
    "language_info": {
      "name": "python"
    }
  },
  "cells": [
    {
      "cell_type": "markdown",
      "metadata": {
        "id": "view-in-github",
        "colab_type": "text"
      },
      "source": [
        "<a href=\"https://colab.research.google.com/github/aditivin16/AI_Club_RLGames/blob/main/discretising_mountaincar.ipynb\" target=\"_parent\"><img src=\"https://colab.research.google.com/assets/colab-badge.svg\" alt=\"Open In Colab\"/></a>"
      ]
    },
    {
      "cell_type": "code",
      "execution_count": null,
      "metadata": {
        "id": "iemhxFBhMYi5"
      },
      "outputs": [],
      "source": [
        "import gym\n",
        "import numpy as np\n",
        "\n",
        "env=gym.make('MountainCar-v0')\n",
        "learning_rate=0.1\n",
        "discount_factor=0.99\n",
        "num_states=np.round(((env.observation_space.high - env.observation_space.low) * np.array([20, 20])),0).astype(int)+1 #storing number of states\n",
        "num_actions=env.action_space.n\n",
        "q_table=np.zeros((num_states[0], num_states[1], num_actions))\n",
        "num_eps=1000\n",
        "epsilon_start=1\n",
        "epsilon_end=0.1\n",
        "training_steps=1000\n",
        "epsilon_d=epsilon_start/training_steps-epsilon_end/training_steps\n",
        "epsilon=epsilon_start\n",
        "\n",
        "def discretise(state):\n",
        "  discrete_state=(state-env.observation_space.low)*np.array([20,20]) #shifting the minimum value of each parameter to 0 by subtracting low, and discretising into 20x20\n",
        "  discrete_state=np.round(discrete_state,0)\n",
        "  return discrete_state.astype(int)\n",
        "\n",
        "#q-learning\n",
        "for epcount in range(num_eps):\n",
        "  state=env.reset()\n",
        "  discrete_state=discretise(state)\n",
        "  done=False\n",
        "  #epsilon greedy\n",
        "  while not done:\n",
        "    if np.random.random()<epsilon:\n",
        "      action=env.action_space.sample()\n",
        "    else:\n",
        "      action = np.argmax(q_table[discrete_state[0], discrete_state[1]])\n",
        "\n",
        "    #taking action and observing\n",
        "    next_state, reward, done, info = env.step(action)\n",
        "    discrete_next_state=discretise(next_state)\n",
        "\n",
        "\n",
        "    #q-table update\n",
        "\n",
        "    current_q = q_table[discrete_state[0],discrete_state[1], action]\n",
        "    next_q_max=np.argmax(q_table[discrete_next_state[0], discrete_next_state[1]])\n",
        "    updated_q=(1 - learning_rate) * current_q + learning_rate * (reward + discount_factor * next_q_max)\n",
        "    discrete_state=discrete_next_state\n",
        "\n",
        "  #decaying epsilon\n",
        "  epsilon=epsilon-epsilon_d\n",
        "\n",
        "#implementing learned policy\n",
        "\n",
        "total_reward=0\n",
        "state=env.reset()\n",
        "discrete_state=discretise(state)\n",
        "done=False\n",
        "\n",
        "def test(qtable):\n",
        "  return np.argmax(qtable[discrete_state[0],discrete_state[1]])\n",
        "\n",
        "\n",
        "while not done:\n",
        "    action =test(q_table)\n",
        "    state, reward, done, info = env.step(action)\n",
        "    total_reward += reward\n",
        "\n",
        "#closing environment\n",
        "env.close()\n",
        "\n",
        "\n",
        "\n",
        "\n",
        "\n",
        "\n",
        "\n",
        "\n",
        "\n",
        "\n",
        "\n",
        "\n",
        "\n"
      ]
    }
  ]
}